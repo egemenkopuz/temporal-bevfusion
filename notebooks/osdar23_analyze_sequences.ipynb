{
 "cells": [
  {
   "cell_type": "code",
   "execution_count": null,
   "metadata": {},
   "outputs": [],
   "source": [
    "%load_ext autoreload\n",
    "%autoreload 2"
   ]
  },
  {
   "cell_type": "code",
   "execution_count": null,
   "metadata": {},
   "outputs": [],
   "source": [
    "from glob import glob\n",
    "import os\n",
    "import sys\n",
    "import json\n",
    "from typing import Dict, Any\n",
    "\n",
    "sys.path.append(os.path.join(os.getcwd(), \"..\", \"tools\"))"
   ]
  },
  {
   "cell_type": "code",
   "execution_count": null,
   "metadata": {},
   "outputs": [],
   "source": [
    "from preprocessing.osdar23_create_temporal_split import TemporalSequenceDetails, create_sequence_details"
   ]
  },
  {
   "cell_type": "code",
   "execution_count": null,
   "metadata": {},
   "outputs": [],
   "source": [
    "CLASSES = [\n",
    "    \"lidar__cuboid__person\",\n",
    "    \"lidar__cuboid__signal\",\n",
    "    \"lidar__cuboid__catenary_pole\",\n",
    "    \"lidar__cuboid__signal_pole\",\n",
    "    \"lidar__cuboid__train\",\n",
    "    \"lidar__cuboid__road_vehicle\",\n",
    "    \"lidar__cuboid__buffer_stop\",\n",
    "    \"lidar__cuboid__animal\",\n",
    "    \"lidar__cuboid__switch\",\n",
    "    \"lidar__cuboid__bicycle\",\n",
    "    \"lidar__cuboid__crowd\",\n",
    "    \"lidar__cuboid__wagons\",\n",
    "    \"lidar__cuboid__signal_bridge\",\n",
    "]\n",
    "\n",
    "root_path = \"../data/osdar23\"\n",
    "overall_summary = {x:{} for x in [\"train\", \"val\"]}\n",
    "splits = [\"train\", \"val\"]"
   ]
  },
  {
   "cell_type": "code",
   "execution_count": null,
   "metadata": {},
   "outputs": [],
   "source": [
    "def analyze(root_path:str, split:str) -> Dict[str, Any]:\n",
    "    if not os.path.exists(os.path.join(root_path, split)):\n",
    "        return None\n",
    "\n",
    "    print() # for new line\n",
    "    sequence_data: Dict[str, TemporalSequenceDetails] = create_sequence_details(os.path.join(root_path, split), sequences_seperated=False)\n",
    "\n",
    "    lidar_label_paths = sorted(glob(os.path.join(root_path, split, \"labels_point_clouds\", \"*\")))\n",
    "\n",
    "    total_not_only_prev = 0\n",
    "    total_not_only_next = 0\n",
    "    total_not_both = 0\n",
    "\n",
    "    data = {}\n",
    "    for x in lidar_label_paths:\n",
    "        json_path = os.path.join(x)\n",
    "        json_data = None\n",
    "        with open(json_path, \"r\") as f:\n",
    "            json_data = json.load(f)\n",
    "            metadata = json_data[\"openlabel\"][\"metadata\"]\n",
    "            seq_name = metadata[\"tagged_file\"]\n",
    "            frame_idx = list(json_data[\"openlabel\"][\"frames\"].keys())[0]\n",
    "            frame_properties = json_data[\"openlabel\"][\"frames\"][frame_idx][\"frame_properties\"]\n",
    "            token = frame_properties[\"token\"]\n",
    "            prev = frame_properties[\"prev\"]\n",
    "            next = frame_properties[\"next\"]\n",
    "            scene_token = frame_properties[\"scene_token\"]\n",
    "            frame_idx = frame_properties[\"frame_idx\"]\n",
    "            if prev is None and next is None:\n",
    "                total_not_both += 1\n",
    "            elif prev is None:\n",
    "                total_not_only_prev += 1\n",
    "            elif next is None:\n",
    "                total_not_only_next += 1\n",
    "\n",
    "            data[token] = (prev, next, scene_token, frame_idx, seq_name)\n",
    "\n",
    "    chain_results = {}\n",
    "\n",
    "    for token, (_, _, scene_token, _, seq_name) in data.items():\n",
    "        if scene_token not in chain_results:\n",
    "            chain_results[scene_token] = {\n",
    "                \"total\": 0,\n",
    "                \"frames\": [token],\n",
    "                \"seq_name\": seq_name\n",
    "            }\n",
    "        else:\n",
    "            chain_results[scene_token][\"frames\"].append(token)\n",
    "\n",
    "    for token, (prev, next, scene_token, frame_idx, seq_name) in data.items(): \n",
    "        chain_results[scene_token][\"total\"] = len(chain_results[scene_token][\"frames\"])\n",
    "\n",
    "    print(\"\\n\", \"-\" * 15, \"split: \", split, \"-\" * 15)\n",
    "    chain_results = sorted(chain_results.items(), key=lambda x:int(x[1][\"total\"]))\n",
    "\n",
    "    print(\"No. Sequences with following number of frames: \")\n",
    "    for x, y in sorted(chain_results):\n",
    "        print(f\"{y['seq_name']:<35}\", \"\\ttoken\", x, \"\\tno_frames:\", y[\"total\"])\n",
    "\n",
    "    print(\"\\nNumber of sequences: \\t\\t\", len(chain_results))\n",
    "    print(\"Samples with no prev: \\t\\t\", total_not_only_prev)\n",
    "    print(\"Samples with no next: \\t\\t\", total_not_only_next)\n",
    "    print(\"Samples with no prev nor next: \\t\", total_not_both)"
   ]
  },
  {
   "cell_type": "code",
   "execution_count": null,
   "metadata": {},
   "outputs": [],
   "source": [
    "overall_summary[\"train\"] = analyze(root_path, \"train\")"
   ]
  },
  {
   "cell_type": "code",
   "execution_count": null,
   "metadata": {},
   "outputs": [],
   "source": [
    "overall_summary[\"val\"] = analyze(root_path, \"val\")"
   ]
  }
 ],
 "metadata": {
  "kernelspec": {
   "display_name": "base",
   "language": "python",
   "name": "python3"
  },
  "language_info": {
   "codemirror_mode": {
    "name": "ipython",
    "version": 3
   },
   "file_extension": ".py",
   "mimetype": "text/x-python",
   "name": "python",
   "nbconvert_exporter": "python",
   "pygments_lexer": "ipython3",
   "version": "3.8.17"
  },
  "orig_nbformat": 4
 },
 "nbformat": 4,
 "nbformat_minor": 2
}
