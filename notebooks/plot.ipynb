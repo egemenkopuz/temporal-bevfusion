{
 "cells": [
  {
   "cell_type": "code",
   "execution_count": 138,
   "metadata": {},
   "outputs": [
    {
     "name": "stdout",
     "output_type": "stream",
     "text": [
      "The autoreload extension is already loaded. To reload it, use:\n",
      "  %reload_ext autoreload\n"
     ]
    }
   ],
   "source": [
    "%load_ext autoreload\n",
    "%autoreload 2"
   ]
  },
  {
   "cell_type": "code",
   "execution_count": 139,
   "metadata": {},
   "outputs": [],
   "source": [
    "import os\n",
    "import sys\n",
    "\n",
    "sys.path.append(os.path.join(os.getcwd(), \"..\", \"tools\"))"
   ]
  },
  {
   "cell_type": "code",
   "execution_count": 140,
   "metadata": {},
   "outputs": [],
   "source": [
    "from visualization import (\n",
    "    a9_plot_3d_boxes,\n",
    "    a9_plot_image_w_lidar_points,\n",
    "    osdar23_plot_3d_boxes,\n",
    "    osdar23_plot_image_w_lidar_points,\n",
    ")"
   ]
  },
  {
   "attachments": {},
   "cell_type": "markdown",
   "metadata": {},
   "source": [
    "# A9"
   ]
  },
  {
   "cell_type": "code",
   "execution_count": 141,
   "metadata": {},
   "outputs": [],
   "source": [
    "input_folder_path = r\"C:\\data\\a9\\train\"\n",
    "index = 0\n",
    "\n",
    "input_folder_path_images_south1 = os.path.join(\n",
    "    input_folder_path, \"images\", \"s110_camera_basler_south1_8mm\"\n",
    ")\n",
    "input_folder_path_images_south2 = os.path.join(\n",
    "    input_folder_path, \"images\", \"s110_camera_basler_south2_8mm\"\n",
    ")\n",
    "input_folder_path_labels_south1 = os.path.join(\n",
    "    input_folder_path, \"labels_images\", \"s110_camera_basler_south1_8mm\"\n",
    ")\n",
    "input_folder_path_labels_south2 = os.path.join(\n",
    "    input_folder_path, \"labels_images\", \"s110_camera_basler_south2_8mm\"\n",
    ")\n",
    "input_folder_path_point_clouds = os.path.join(\n",
    "    input_folder_path, \"point_clouds\", \"s110_lidar_ouster_south\"\n",
    ")\n",
    "input_folder_path_detections = os.path.join(\n",
    "    input_folder_path, \"labels_point_clouds\", \"s110_lidar_ouster_south\"\n",
    ")"
   ]
  },
  {
   "cell_type": "code",
   "execution_count": 142,
   "metadata": {},
   "outputs": [],
   "source": [
    "a9_plot_image_w_lidar_points(\n",
    "    input_folder_path_images_south1,\n",
    "    input_folder_path_images_south2,\n",
    "    input_folder_path_labels_south1,\n",
    "    input_folder_path_labels_south2,\n",
    "    input_folder_path_point_clouds,\n",
    "    input_folder_path_detections,\n",
    "    index=index,\n",
    "    lidar_location=\"south1\",\n",
    "    only_camera_label=False,\n",
    ")"
   ]
  },
  {
   "cell_type": "code",
   "execution_count": 143,
   "metadata": {},
   "outputs": [
    {
     "name": "stdout",
     "output_type": "stream",
     "text": [
      "Raw:  (92861, 3)\n",
      "Filtered:  (50615, 3)\n"
     ]
    }
   ],
   "source": [
    "a9_plot_3d_boxes(\n",
    "    input_folder_path_point_clouds,\n",
    "    input_folder_path_detections,\n",
    "    index=index,\n",
    "    show_coordinate_frame=True,\n",
    "    color_distance=False,\n",
    "    color_detection=True,\n",
    ")"
   ]
  },
  {
   "attachments": {},
   "cell_type": "markdown",
   "metadata": {},
   "source": [
    "# OSDAR23"
   ]
  },
  {
   "cell_type": "code",
   "execution_count": 144,
   "metadata": {},
   "outputs": [],
   "source": [
    "input_id = \"2_station_berliner_tor_2.1\"\n",
    "index = 0\n",
    "camera_location = \"rgb_center\"\n",
    "input_folder_path = f\"C:\\\\data\\\\osdar23\\\\{input_id}\"\n",
    "\n",
    "input_folder_path_images = os.path.join(input_folder_path, camera_location)\n",
    "input_folder_path_point_clouds = os.path.join(input_folder_path, \"lidar\")\n",
    "input_folder_path_detections = os.path.join(input_folder_path, f\"{input_id}_labels.json\")"
   ]
  },
  {
   "cell_type": "code",
   "execution_count": 145,
   "metadata": {},
   "outputs": [],
   "source": [
    "osdar23_plot_image_w_lidar_points(\n",
    "    input_folder_path_images,\n",
    "    input_folder_path_point_clouds,\n",
    "    input_folder_path_detections,\n",
    "    index=index,\n",
    "    camera_location=camera_location,\n",
    "    only_camera_label=False,\n",
    ")"
   ]
  },
  {
   "cell_type": "code",
   "execution_count": 146,
   "metadata": {},
   "outputs": [
    {
     "name": "stdout",
     "output_type": "stream",
     "text": [
      "Raw:  (187199, 3)\n",
      "Filtered:  (141142, 3)\n"
     ]
    }
   ],
   "source": [
    "osdar23_plot_3d_boxes(\n",
    "    input_folder_path_point_clouds,\n",
    "    input_folder_path_detections,\n",
    "    index=index,\n",
    "    show_coordinate_frame=True,\n",
    "    color_distance=False,\n",
    "    color_detection=True,\n",
    ")"
   ]
  }
 ],
 "metadata": {
  "kernelspec": {
   "display_name": "open3d",
   "language": "python",
   "name": "python3"
  },
  "language_info": {
   "codemirror_mode": {
    "name": "ipython",
    "version": 3
   },
   "file_extension": ".py",
   "mimetype": "text/x-python",
   "name": "python",
   "nbconvert_exporter": "python",
   "pygments_lexer": "ipython3",
   "version": "3.10.11"
  },
  "orig_nbformat": 4
 },
 "nbformat": 4,
 "nbformat_minor": 2
}
