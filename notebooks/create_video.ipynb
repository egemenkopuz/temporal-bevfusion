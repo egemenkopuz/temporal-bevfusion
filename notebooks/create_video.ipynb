{
 "cells": [
  {
   "cell_type": "code",
   "execution_count": null,
   "metadata": {},
   "outputs": [],
   "source": [
    "import cv2\n",
    "import os\n",
    "import numpy as np"
   ]
  },
  {
   "cell_type": "code",
   "execution_count": null,
   "metadata": {},
   "outputs": [],
   "source": [
    "image_folder = \"../visuals/80-10-10/c-a9-80s10s10-1600g-0p1/\"\n",
    "out_path = os.path.join(image_folder, \"videos\")\n",
    "os.makedirs(out_path, exist_ok=True, mode=0o777)"
   ]
  },
  {
   "cell_type": "code",
   "execution_count": null,
   "metadata": {},
   "outputs": [],
   "source": [
    "for folder_name in os.listdir(image_folder):\n",
    "    images = sorted([img for img in os.listdir(os.path.join(image_folder, folder_name)) if img.endswith(\".png\")])\n",
    "    if len(images) == 0:\n",
    "        continue\n",
    "    print(\"Creating video for: \", folder_name)\n",
    "    frame = cv2.imread(os.path.join(image_folder, folder_name, images[0]))\n",
    "    height, width, layers = frame.shape\n",
    "\n",
    "    video_name = os.path.join(out_path, folder_name + \".mp4\")\n",
    "    video = cv2.VideoWriter(video_name, 0x7634706d, 10, (width,height))\n",
    "\n",
    "    for image in images:\n",
    "        video.write(cv2.imread(os.path.join(image_folder, folder_name, image)))\n",
    "\n",
    "    cv2.destroyAllWindows()\n",
    "    video.release()"
   ]
  }
 ],
 "metadata": {
  "kernelspec": {
   "display_name": "open3d",
   "language": "python",
   "name": "python3"
  },
  "language_info": {
   "codemirror_mode": {
    "name": "ipython",
    "version": 3
   },
   "file_extension": ".py",
   "mimetype": "text/x-python",
   "name": "python",
   "nbconvert_exporter": "python",
   "pygments_lexer": "ipython3",
   "version": "3.8.16"
  },
  "orig_nbformat": 4
 },
 "nbformat": 4,
 "nbformat_minor": 2
}
