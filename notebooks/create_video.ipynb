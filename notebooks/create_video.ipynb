{
 "cells": [
  {
   "cell_type": "code",
   "execution_count": 5,
   "metadata": {},
   "outputs": [],
   "source": [
    "import cv2\n",
    "import os"
   ]
  },
  {
   "cell_type": "code",
   "execution_count": 34,
   "metadata": {},
   "outputs": [],
   "source": [
    "image_folder = \"../vis-temporal/C-B-frange-bbox-20/\"\n",
    "out_path = os.path.join(image_folder, \"videos\")\n",
    "os.makedirs(out_path, exist_ok=True)"
   ]
  },
  {
   "cell_type": "code",
   "execution_count": 38,
   "metadata": {},
   "outputs": [
    {
     "name": "stderr",
     "output_type": "stream",
     "text": [
      "OpenCV: FFMPEG: tag 0x00000000/'????' is not supported with codec id 13 and format 'mp3 / MP3 (MPEG audio layer 3)'\n",
      "OpenCV: FFMPEG: tag 0x00000000/'????' is not supported with codec id 13 and format 'mp3 / MP3 (MPEG audio layer 3)'\n",
      "OpenCV: FFMPEG: tag 0x00000000/'????' is not supported with codec id 13 and format 'mp3 / MP3 (MPEG audio layer 3)'\n",
      "OpenCV: FFMPEG: tag 0x00000000/'????' is not supported with codec id 13 and format 'mp3 / MP3 (MPEG audio layer 3)'\n"
     ]
    }
   ],
   "source": [
    "# for loop for folders in image_folder\n",
    "for folder_name in os.listdir(image_folder):\n",
    "    images = [img for img in os.listdir(os.path.join(image_folder, folder_name)) if img.endswith(\".png\")]\n",
    "    if len(images) == 0:\n",
    "        continue\n",
    "    frame = cv2.imread(os.path.join(image_folder, folder_name, images[0]))\n",
    "    height, width, layers = frame.shape\n",
    "\n",
    "    video_name = os.path.join(out_path, folder_name + \".mp4\")\n",
    "\n",
    "    video = cv2.VideoWriter(video_name, 0, 10, (width,height))\n",
    "\n",
    "    for image in images:\n",
    "        video.write(cv2.imread(os.path.join(image_folder, folder_name, image)))\n",
    "\n",
    "    cv2.destroyAllWindows()\n",
    "    video.release()"
   ]
  }
 ],
 "metadata": {
  "kernelspec": {
   "display_name": "open3d",
   "language": "python",
   "name": "python3"
  },
  "language_info": {
   "codemirror_mode": {
    "name": "ipython",
    "version": 3
   },
   "file_extension": ".py",
   "mimetype": "text/x-python",
   "name": "python",
   "nbconvert_exporter": "python",
   "pygments_lexer": "ipython3",
   "version": "3.10.12"
  },
  "orig_nbformat": 4
 },
 "nbformat": 4,
 "nbformat_minor": 2
}
