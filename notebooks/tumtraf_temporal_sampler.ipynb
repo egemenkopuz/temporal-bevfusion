{
 "cells": [
  {
   "cell_type": "code",
   "execution_count": 1,
   "metadata": {},
   "outputs": [],
   "source": [
    "%load_ext autoreload\n",
    "%autoreload 2"
   ]
  },
  {
   "cell_type": "code",
   "execution_count": 2,
   "metadata": {},
   "outputs": [
    {
     "name": "stdout",
     "output_type": "stream",
     "text": [
      "/root/mmdet3d\n"
     ]
    }
   ],
   "source": [
    "%cd .."
   ]
  },
  {
   "cell_type": "code",
   "execution_count": 3,
   "metadata": {},
   "outputs": [],
   "source": [
    "from mmdet3d.datasets import build_dataset, build_dataloader\n",
    "from mmdet3d.models import build_model\n",
    "from mmdet3d.utils import recursive_eval\n",
    "from mmcv import Config\n",
    "from torchpack.utils.config import configs\n",
    "import random\n",
    "import numpy as np\n",
    "import torch\n",
    "from mmcv.utils import Registry, build_from_cfg\n",
    "from mmdet.datasets import DATASETS\n",
    "from mmdet3d.datasets.dataset_wrappers import CBGSDataset"
   ]
  },
  {
   "cell_type": "code",
   "execution_count": 4,
   "metadata": {},
   "outputs": [],
   "source": [
    "config_path = \"configs/a9-80s10s10-t3-1600g-0p1/default.yaml\"\n",
    "configs.load(config_path, recursive=True)\n",
    "cfg = Config(recursive_eval(configs), filename=config_path)"
   ]
  },
  {
   "cell_type": "code",
   "execution_count": 19,
   "metadata": {},
   "outputs": [],
   "source": [
    "dataset = build_dataset(cfg.data.test, dict(test_mode=True))\n",
    "dataloader = build_dataloader(\n",
    "    dataset, 1, 4, 1, dist=True, seed=cfg.seed, shuffle=False\n",
    ")"
   ]
  },
  {
   "cell_type": "code",
   "execution_count": 20,
   "metadata": {},
   "outputs": [
    {
     "name": "stdout",
     "output_type": "stream",
     "text": [
      "test 1 debug_frame_indices [0, 0, 1]\n",
      "test 2 debug_frame_indices [0, 1, 2]\n",
      "test 3 debug_frame_indices [1, 2, 3]\n",
      "test 0 debug_frame_indices [0, 0, 0]\n",
      "test 7 debug_frame_indices [5, 6, 7]\n",
      "test 6 debug_frame_indices [4, 5, 6]\n",
      "test 5 debug_frame_indices [3, 4, 5]\n",
      "test 4 debug_frame_indices [2, 3, 4]\n",
      "test 11 debug_frame_indices [9, 10, 11]\n",
      "test 10 debug_frame_indices [8, 9, 10]\n",
      "test 9 debug_frame_indices [7, 8, 9]\n",
      "test 8 debug_frame_indices [6, 7, 8]\n",
      "test 15 debug_frame_indices [13, 14, 15]\n",
      "test 14 debug_frame_indices [12, 13, 14]\n",
      "test 13 debug_frame_indices [11, 12, 13]\n",
      "test 12 debug_frame_indices [10, 11, 12]\n"
     ]
    }
   ],
   "source": [
    "if cfg.seed is not None:\n",
    "    random.seed(cfg.seed)\n",
    "    np.random.seed(cfg.seed)\n",
    "    torch.manual_seed(cfg.seed)\n",
    "\n",
    "for batch_idx, batch_data in enumerate(dataloader):\n",
    "    frame_idxs = []\n",
    "    for x in batch_data['metas'].data[0][0]:\n",
    "        frame_idxs.append(x[\"frame_idx\"])\n",
    "    # print(f\"idx: {batch_idx:<4} indices:\", frame_idxs)\n",
    "\n",
    "    if batch_idx == 10:\n",
    "        break"
   ]
  }
 ],
 "metadata": {
  "kernelspec": {
   "display_name": "base",
   "language": "python",
   "name": "python3"
  },
  "language_info": {
   "codemirror_mode": {
    "name": "ipython",
    "version": 3
   },
   "file_extension": ".py",
   "mimetype": "text/x-python",
   "name": "python",
   "nbconvert_exporter": "python",
   "pygments_lexer": "ipython3",
   "version": "3.8.16"
  },
  "orig_nbformat": 4
 },
 "nbformat": 4,
 "nbformat_minor": 2
}
