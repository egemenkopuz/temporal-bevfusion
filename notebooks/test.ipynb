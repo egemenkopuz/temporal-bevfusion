{
 "cells": [
  {
   "cell_type": "code",
   "execution_count": 1,
   "metadata": {},
   "outputs": [
    {
     "name": "stdout",
     "output_type": "stream",
     "text": [
      "/root/mmdet3d\n"
     ]
    }
   ],
   "source": [
    "%cd .."
   ]
  },
  {
   "cell_type": "code",
   "execution_count": 2,
   "metadata": {},
   "outputs": [],
   "source": [
    "import json\n",
    "from glob import glob\n",
    "import os"
   ]
  },
  {
   "cell_type": "code",
   "execution_count": null,
   "metadata": {},
   "outputs": [],
   "source": [
    "save_root_path = \"test-results-tune-temporal\"\n",
    "os.makedirs(save_root_path, exist_ok=True)\n",
    "\n",
    "paths = glob(\"checkpoints/tune/tumtraf-i-t/trial_*\")\n",
    "for x in paths:\n",
    "    cfg_path = os.path.join(x, \"configs.yaml\")\n",
    "    model_path = os.path.join(x, \"latest.pth\")\n",
    "    if os.path.exists(model_path):\n",
    "        summary_path = os.path.join(save_root_path, f\"{os.path.basename(x)}.json\")\n",
    "        command = f\"torchpack dist-run -np 1 python tools/test.py {cfg_path} {model_path} --eval bbox --eval-options save_summary_path={summary_path}\"\n",
    "        print(command)\n",
    "        os.system(command)"
   ]
  },
  {
   "cell_type": "code",
   "execution_count": 6,
   "metadata": {},
   "outputs": [
    {
     "name": "stdout",
     "output_type": "stream",
     "text": [
      "('trial_6.json', 0.869110934570511)\n",
      "('trial_1.json', 0.8683437661440381)\n",
      "('trial_8.json', 0.8676134991164922)\n",
      "('trial_12.json', 0.866372321915993)\n",
      "('trial_9.json', 0.8658353708823945)\n",
      "('trial_18.json', 0.8657514812310528)\n",
      "('trial_7.json', 0.8657011693398278)\n",
      "('trial_24.json', 0.8654702185266928)\n",
      "('trial_16.json', 0.8648840888851664)\n",
      "('trial_17.json', 0.8648778768669876)\n",
      "('trial_21.json', 0.8647786266044974)\n",
      "('trial_10.json', 0.8642122524119132)\n",
      "('trial_4.json', 0.8642063992428426)\n",
      "('trial_3.json', 0.8641452281484988)\n",
      "('trial_19.json', 0.863438592176553)\n",
      "('trial_11.json', 0.8634138759286417)\n",
      "('trial_13.json', 0.8632911618684297)\n",
      "('trial_0.json', 0.8620923327385878)\n",
      "('trial_15.json', 0.8617643168461924)\n",
      "('trial_23.json', 0.8616715419930778)\n",
      "('trial_5.json', 0.8613195038048134)\n",
      "('trial_22.json', 0.8607626001714453)\n",
      "('trial_14.json', 0.860663986368095)\n",
      "('trial_2.json', 0.859246588350724)\n",
      "('trial_20.json', 0.858455268133769)\n"
     ]
    }
   ],
   "source": [
    "result_paths = glob(os.path.join(save_root_path, \"*.json\"))\n",
    "results = {}\n",
    "\n",
    "for x in result_paths:\n",
    "    with open(x, \"r\") as f:\n",
    "        results[os.path.basename(x)] = json.load(f)[\"overall\"][\"mean_ap\"]\n",
    "\n",
    "# sort by value\n",
    "results = sorted(results.items(), key=lambda x: x[1], reverse=True)\n",
    "\n",
    "for x in results:\n",
    "    print(x)\n"
   ]
  },
  {
   "cell_type": "code",
   "execution_count": null,
   "metadata": {},
   "outputs": [],
   "source": [
    "save_root_path = \"test-results-tune\"\n",
    "os.makedirs(save_root_path, exist_ok=True)\n",
    "\n",
    "paths = glob(\"checkpoints/tune/tumtraf-i/trial_*\")\n",
    "for x in  paths:\n",
    "    cfg_path = os.path.join(x, \"configs.yaml\")\n",
    "    model_path = os.path.join(x, \"latest.pth\")\n",
    "    summary_path = os.path.join(save_root_path, f\"{os.path.basename(x)}.json\")\n",
    "    command = f\"torchpack dist-run -np 1 python tools/test.py {cfg_path} {model_path} --eval bbox --eval-options save_summary_path={summary_path}\"\n",
    "    print(command)\n",
    "    os.system(command)"
   ]
  },
  {
   "cell_type": "code",
   "execution_count": 4,
   "metadata": {},
   "outputs": [
    {
     "name": "stdout",
     "output_type": "stream",
     "text": [
      "('trial_19.json', 0.857649705319942)\n",
      "('trial_9.json', 0.8513791189619008)\n",
      "('trial_4.json', 0.8417670884380674)\n",
      "('trial_5.json', 0.8403691218393278)\n",
      "('trial_0.json', 0.8380607410062837)\n",
      "('trial_1.json', 0.8378628979874908)\n",
      "('trial_14.json', 0.836087276471798)\n",
      "('trial_6.json', 0.8345389973011593)\n",
      "('trial_3.json', 0.83351792451581)\n",
      "('trial_7.json', 0.8318623560793962)\n",
      "('trial_16.json', 0.8297557891655101)\n",
      "('trial_17.json', 0.8280463233660539)\n",
      "('trial_13.json', 0.8264389840249851)\n",
      "('trial_8.json', 0.8258726848923922)\n",
      "('trial_11.json', 0.8256773237330548)\n",
      "('trial_2.json', 0.8248005896303439)\n",
      "('trial_12.json', 0.8212950253922346)\n",
      "('trial_18.json', 0.8203204923006402)\n",
      "('trial_15.json', 0.8142540385412318)\n",
      "('trial_10.json', 0.8122745039720125)\n"
     ]
    }
   ],
   "source": [
    "result_paths = glob(os.path.join(\"test-results-tune\", \"*.json\"))\n",
    "results = {}\n",
    "\n",
    "for x in result_paths:\n",
    "    with open(x, \"r\") as f:\n",
    "        results[os.path.basename(x)] = json.load(f)[\"overall\"][\"mean_ap\"]\n",
    "\n",
    "# sort by value\n",
    "results = sorted(results.items(), key=lambda x: x[1], reverse=True)\n",
    "\n",
    "for x in results:\n",
    "    print(x)\n"
   ]
  },
  {
   "cell_type": "code",
   "execution_count": null,
   "metadata": {},
   "outputs": [],
   "source": [
    "root_path = \"checkpoints/tumtraf-i-iter\"\n",
    "save_root_path = \"test-results-tumtraf-i-iter\"\n",
    "for x in glob(root_path + \"/*\"):\n",
    "    num = os.path.basename(x)\n",
    "    exp_paths = glob(x + \"/*\")\n",
    "    for y in exp_paths:\n",
    "        cfg_path = os.path.join(y, \"configs.yaml\")\n",
    "        model_path = os.path.join(y, \"latest.pth\")\n",
    "        save_path = f\"{num}_{os.path.basename(y)}.json\"\n",
    "        summary_path = os.path.join(save_root_path, save_path)\n",
    "        if os.path.exists(summary_path):\n",
    "            continue\n",
    "        command = f\"torchpack dist-run -np 1 python tools/test.py {cfg_path} {model_path} --eval bbox --eval-options save_summary_path={summary_path}\"\n",
    "        print(command)\n",
    "        os.system(command)"
   ]
  },
  {
   "cell_type": "code",
   "execution_count": 9,
   "metadata": {},
   "outputs": [
    {
     "name": "stdout",
     "output_type": "stream",
     "text": [
      "('2_l-convlstm-voxelnet-1600z51-0xy1-0z2-0st0-ql3-sameaugall-qrt1-gtp3-sameaug-trans-aug3d-0sx9-1sy1--0rx2-0ry2-0t25-pretrained-lfrz-dtrmnstc.json', 0.8685600074047666)\n",
      "('1_l-convlstm-voxelnet-1600z51-0xy1-0z2-0st0-ql3-sameaugall-qrt1-gtp3-sameaug-aug3d-0sx9-1sy1--0rx2-0ry2-0t25-pretrained-lfrz-dtrmnstc.json', 0.8680052967225628)\n",
      "('4_l-convlstm-voxelnet-1600z51-0xy1-0z2-0st0-ql3-sameaugall-qrt1-gtp3-sameaug-trans-aug3d-0sx9-1sy1--0rx2-0ry2-0t25-pretrained-lfrz-dtrmnstc.json', 0.8672135700760426)\n",
      "('1_l-convlstm-voxelnet-1600z51-0xy1-0z2-0st0-ql3-sameaugall-qrt1-gtp3-sameaug-trans-aug3d-0sx9-1sy1--0rx2-0ry2-0t25-pretrained-lfrz-dtrmnstc.json', 0.865942954381791)\n",
      "('3_l-convlstm-voxelnet-1600z51-0xy1-0z2-0st0-ql3-sameaugall-qrt1-gtp3-sameaug-aug3d-0sx9-1sy1--0rx2-0ry2-0t25-pretrained-lfrz-dtrmnstc.json', 0.8656213901058689)\n",
      "('4_l-convlstm-voxelnet-1600z51-0xy1-0z2-0st0-ql3-sameaugall-qrt1-gtp3-sameaug-aug3d-0sx9-1sy1--0rx2-0ry2-0t25-pretrained-lfrz-dtrmnstc.json', 0.8633355164939474)\n",
      "('2_l-convlstm-voxelnet-1600z51-0xy1-0z2-0st0-ql3-sameaugall-qrt1-gtp3-sameaug-aug3d-0sx9-1sy1--0rx2-0ry2-0t25-pretrained-lfrz-dtrmnstc.json', 0.862256476945362)\n",
      "('3_l-convlstm-voxelnet-1600z51-0xy1-0z2-0st0-ql3-sameaugall-qrt1-gtp3-sameaug-trans-aug3d-0sx9-1sy1--0rx2-0ry2-0t25-pretrained-lfrz-dtrmnstc.json', 0.861617488053501)\n",
      "('2_l-convlstm-voxelnet-1600z51-0xy1-0z2-0st0-ql3-sameaugall-qrt1-gtp3-aug3d-0sx9-1sy1--0rx2-0ry2-0t25-pretrained-lfrz-dtrmnstc.json', 0.8615406047449837)\n",
      "('3_l-convlstm-voxelnet-1600z51-0xy1-0z2-0st0-ql3-sameaugall-qrt1-gtp3-aug3d-0sx9-1sy1--0rx2-0ry2-0t25-pretrained-lfrz-dtrmnstc.json', 0.8587881942383838)\n",
      "('4_l-convlstm-voxelnet-1600z51-0xy1-0z2-0st0-ql3-sameaugall-qrt1-gtp3-aug3d-0sx9-1sy1--0rx2-0ry2-0t25-pretrained-lfrz-dtrmnstc.json', 0.8587368928530063)\n",
      "('1_l-convlstm-voxelnet-1600z51-0xy1-0z2-0st0-ql3-sameaugall-qrt1-gtp3-aug3d-0sx9-1sy1--0rx2-0ry2-0t25-pretrained-lfrz-dtrmnstc.json', 0.8574292390364978)\n",
      "('1_l-convlstm-voxelnet-1600z51-0xy1-0z2-0st0-ql3-qrt1-gtp3-sameaug-trans-rot-aug3d-0sx9-1sy1--0rx2-0ry2-0t25-pretrained-lfrz-dtrmnstc.json', 0.8444870961087569)\n",
      "('4_l-convlstm-voxelnet-1600z51-0xy1-0z2-0st0-ql3-qrt1-gtp3-sameaug-trans-rot-aug3d-0sx9-1sy1--0rx2-0ry2-0t25-pretrained-lfrz-dtrmnstc.json', 0.8422636768855728)\n",
      "('3_l-convlstm-voxelnet-1600z51-0xy1-0z2-0st0-ql3-qrt1-gtp3-sameaug-trans-rot-aug3d-0sx9-1sy1--0rx2-0ry2-0t25-pretrained-lfrz-dtrmnstc.json', 0.8415259973765971)\n",
      "('2_l-convlstm-voxelnet-1600z51-0xy1-0z2-0st0-ql3-qrt1-gtp3-sameaug-trans-rot-aug3d-0sx9-1sy1--0rx2-0ry2-0t25-pretrained-lfrz-dtrmnstc.json', 0.8401247691190293)\n"
     ]
    }
   ],
   "source": [
    "result_paths = glob(os.path.join(\"test-results-tumtraf-i-iter\", \"*.json\"))\n",
    "results = {}\n",
    "\n",
    "for x in result_paths:\n",
    "    with open(x, \"r\") as f:\n",
    "        results[os.path.basename(x)] = json.load(f)[\"overall\"][\"mean_ap\"]\n",
    "\n",
    "# sort by value\n",
    "results = sorted(results.items(), key=lambda x: x[1], reverse=True)\n",
    "\n",
    "for x in results:\n",
    "    print(x)"
   ]
  }
 ],
 "metadata": {
  "kernelspec": {
   "display_name": "Python 3",
   "language": "python",
   "name": "python3"
  },
  "language_info": {
   "codemirror_mode": {
    "name": "ipython",
    "version": 3
   },
   "file_extension": ".py",
   "mimetype": "text/x-python",
   "name": "python",
   "nbconvert_exporter": "python",
   "pygments_lexer": "ipython3",
   "version": "3.8.17"
  }
 },
 "nbformat": 4,
 "nbformat_minor": 2
}
