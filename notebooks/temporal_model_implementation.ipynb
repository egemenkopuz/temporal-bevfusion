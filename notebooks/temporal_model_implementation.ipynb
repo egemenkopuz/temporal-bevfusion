{
 "cells": [
  {
   "cell_type": "code",
   "execution_count": 1,
   "metadata": {},
   "outputs": [],
   "source": [
    "%load_ext autoreload\n",
    "%autoreload 2"
   ]
  },
  {
   "cell_type": "code",
   "execution_count": 2,
   "metadata": {},
   "outputs": [],
   "source": [
    "import torch\n",
    "from torch import nn\n",
    "import torch.nn.functional as f\n",
    "from torch.autograd import Variable\n",
    "import copy\n",
    "\n",
    "from mmdet3d.models.temporal import ConvLSTM"
   ]
  },
  {
   "cell_type": "code",
   "execution_count": 3,
   "metadata": {},
   "outputs": [],
   "source": [
    "def test(num_seqs, channels_img, size_image, max_epoch, model):\n",
    "    input_image = torch.rand(num_seqs, 1, channels_img, size_image, size_image)\n",
    "    # target_image = torch.rand(num_seqs, 1, channels_img, size_image, size_image)\n",
    "    target_image = copy.deepcopy(input_image)\n",
    "    # add some noise to the target image randomly\n",
    "    for i in range(num_seqs):\n",
    "        if i % 2 == 0:\n",
    "            target_image[i] = input_image[i] + 0.1\n",
    "        else:\n",
    "            target_image[i] = input_image[i] - 0.1\n",
    "\n",
    "\n",
    "    input_gru = Variable(input_image)\n",
    "    target_gru = Variable(target_image)\n",
    "\n",
    "    print(\"\\n\\n ==> Create a MSE criterion:\")\n",
    "    MSE_criterion = nn.MSELoss()\n",
    "\n",
    "    h_next = None\n",
    "    for e in range(max_epoch):\n",
    "        for time in range(num_seqs):\n",
    "            h_next = model(input_gru[time], h_next)\n",
    "            print(\"h_next.shape\", h_next.shape)\n",
    "            print(\"target_gru.shape\", target_gru.shape)\n",
    "            print(\"target_gru[time].shape\", target_gru[time].shape)\n",
    "            err = MSE_criterion(h_next, target_gru[time])\n",
    "            print(\"\\n ... Error: \" + str(err.cpu().detach().numpy()))"
   ]
  },
  {
   "cell_type": "code",
   "execution_count": 4,
   "metadata": {},
   "outputs": [],
   "source": [
    "num_seqs = 3\n",
    "hidden_size = 256\n",
    "channels_img = 256\n",
    "size_image = 200\n",
    "max_epoch = 1\n",
    "kernel_size = 3"
   ]
  },
  {
   "cell_type": "code",
   "execution_count": 5,
   "metadata": {},
   "outputs": [],
   "source": [
    "# model = ConvGRUCell(channels_img, hidden_size, kernel_size)\n",
    "# print(repr(model))\n",
    "# test(num_seqs, channels_img, size_image, max_epoch, model)"
   ]
  },
  {
   "cell_type": "code",
   "execution_count": 19,
   "metadata": {},
   "outputs": [
    {
     "name": "stdout",
     "output_type": "stream",
     "text": [
      "ConvLSTM(\n",
      "  (cell_list): ModuleList(\n",
      "    (0): ConvLSTMCell(\n",
      "      (conv): Conv2d(512, 1024, kernel_size=(3, 3), stride=(1, 1), padding=(1, 1))\n",
      "    )\n",
      "  )\n",
      ")\n"
     ]
    }
   ],
   "source": [
    "conv_lstm = ConvLSTM(\n",
    "    in_channels=256,\n",
    "    hidden_channels=[256], # hparam\n",
    "    kernel_size=[3,3],\n",
    "    batch_first=True,\n",
    "    bias=True,\n",
    "    return_all_layers=False,\n",
    ")\n",
    "\n",
    "print(conv_lstm.__repr__())"
   ]
  },
  {
   "cell_type": "code",
   "execution_count": 7,
   "metadata": {},
   "outputs": [
    {
     "name": "stdout",
     "output_type": "stream",
     "text": [
      "curr_feat.shape torch.Size([6, 256, 200, 200])\n",
      "prev_feat.shape torch.Size([6, 2, 256, 200, 200])\n",
      "curr_feat.shape torch.Size([6, 1, 256, 200, 200])\n",
      "x.shape torch.Size([6, 3, 256, 200, 200])\n"
     ]
    }
   ],
   "source": [
    "# B, C, H, W\n",
    "# 1, 256, 200, 200\n",
    "batch_size = 6\n",
    "queue_length = 3\n",
    "curr_feat = torch.rand(batch_size, 256, 200, 200)\n",
    "print(\"curr_feat.shape\", curr_feat.shape)\n",
    "prev_feat = [torch.rand(batch_size, 256, 200, 200) for _ in range(queue_length - 1)]\n",
    "\n",
    "# stack the previous features -> B, T, C, H, W\n",
    "prev_feat = torch.stack(prev_feat, dim=1)\n",
    "# stack the current features -> B, C, H, W -> B, 1, C, H, W\n",
    "print(\"prev_feat.shape\", prev_feat.shape)\n",
    "curr_feat = curr_feat.unsqueeze(1)\n",
    "print(\"curr_feat.shape\", curr_feat.shape)\n",
    "x = torch.cat((prev_feat, curr_feat), dim=1)\n",
    "print(\"x.shape\", x.shape)"
   ]
  },
  {
   "cell_type": "code",
   "execution_count": 8,
   "metadata": {},
   "outputs": [],
   "source": [
    "out = conv_lstm(x)"
   ]
  },
  {
   "cell_type": "code",
   "execution_count": 9,
   "metadata": {},
   "outputs": [
    {
     "data": {
      "text/plain": [
       "torch.Size([6, 256, 200, 200])"
      ]
     },
     "execution_count": 9,
     "metadata": {},
     "output_type": "execute_result"
    }
   ],
   "source": [
    "out.shape"
   ]
  }
 ],
 "metadata": {
  "kernelspec": {
   "display_name": "Python 3",
   "language": "python",
   "name": "python3"
  },
  "language_info": {
   "codemirror_mode": {
    "name": "ipython",
    "version": 3
   },
   "file_extension": ".py",
   "mimetype": "text/x-python",
   "name": "python",
   "nbconvert_exporter": "python",
   "pygments_lexer": "ipython3",
   "version": "3.8.17"
  }
 },
 "nbformat": 4,
 "nbformat_minor": 2
}
