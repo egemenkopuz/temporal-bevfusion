{
 "cells": [
  {
   "cell_type": "code",
   "execution_count": null,
   "metadata": {},
   "outputs": [],
   "source": [
    "%load_ext autoreload\n",
    "%autoreload 2"
   ]
  },
  {
   "cell_type": "code",
   "execution_count": null,
   "metadata": {},
   "outputs": [],
   "source": [
    "from glob import glob\n",
    "import os\n",
    "import sys\n",
    "import json\n",
    "from typing import Dict, List\n",
    "import numpy as np\n",
    "import matplotlib.pyplot as plt\n",
    "\n",
    "sys.path.append(os.path.join(os.getcwd(), \"..\", \"tools\"))"
   ]
  },
  {
   "cell_type": "code",
   "execution_count": null,
   "metadata": {},
   "outputs": [],
   "source": [
    "CLASSES = [\n",
    "    \"CAR\",\n",
    "    \"TRUCK\",\n",
    "    \"TRAILER\",\n",
    "    \"BUS\",\n",
    "    \"VAN\",\n",
    "    \"BICYCLE\",\n",
    "    \"MOTORCYCLE\",\n",
    "    \"PEDESTRIAN\",\n",
    "    \"EMERGENCY_VEHICLE\",\n",
    "    \"OTHER\",\n",
    "]\n",
    "\n",
    "CLASS_COLORS = {\n",
    "    \"CAR\": [0, 0.8, 0.964705882],\n",
    "    \"TRUCK\": [0.337254902, 1, 0.71372549],\n",
    "    \"TRAILER\": [0.352941176, 1, 0.494117647],\n",
    "    \"VAN\": [0.921568627, 0.811764706, 0.211764706],\n",
    "    \"MOTORCYCLE\": [0.725490196, 0.643137255, 0.329411765],\n",
    "    \"BUS\": [0.850980392, 0.541176471, 0.525490196],\n",
    "    \"PEDESTRIAN\": [0.91372549, 0.462745098, 0.976470588],\n",
    "    \"BICYCLE\": [0.694117647, 0.549019608, 1],\n",
    "    \"EMERGENCY_VEHICLE\": [0.4, 0.419607843, 0.980392157],\n",
    "    \"OTHER\": [0.780392157, 0.780392157, 0.780392157],\n",
    "}\n",
    "\n",
    "root_path = \"../data/a9_temporal_no_split\""
   ]
  },
  {
   "cell_type": "code",
   "execution_count": null,
   "metadata": {},
   "outputs": [],
   "source": [
    "def analyze(root_path: str, point_cloud_range = []) -> Dict[str, List[int]]:\n",
    "    img_label_s1_folder = os.path.join(root_path, \"labels_point_clouds\", \"s110_lidar_ouster_south\")\n",
    "    img_label_s1_paths = sorted(glob(os.path.join(img_label_s1_folder, \"*\")))\n",
    "    class_distances = {cls: [] for cls in CLASSES}\n",
    "    class_coords = {cls: [] for cls in CLASSES}\n",
    "    for x in img_label_s1_paths:\n",
    "        img_label_s1_json_path = os.path.join(x)\n",
    "        json_data = None\n",
    "        with open(img_label_s1_json_path, \"r\") as f:\n",
    "            json_data = json.load(f)\n",
    "            frame_idx = list(json_data[\"openlabel\"][\"frames\"].keys())[0]\n",
    "            frame_objects = json_data[\"openlabel\"][\"frames\"][frame_idx][\"objects\"]\n",
    "\n",
    "            for obj in frame_objects.values():\n",
    "                obj_type = obj[\"object_data\"][\"type\"]\n",
    "                if \"cuboid\" in obj[\"object_data\"]:\n",
    "                    loc = np.asarray(obj[\"object_data\"][\"cuboid\"][\"val\"][:3], dtype=np.float32)\n",
    "\n",
    "                    if len(point_cloud_range) != 0 and not (\n",
    "                        loc[0] > point_cloud_range[0]\n",
    "                        and loc[0] < point_cloud_range[3]\n",
    "                        and loc[1] > point_cloud_range[1]\n",
    "                        and loc[1] < point_cloud_range[4]\n",
    "                        and loc[2] > point_cloud_range[2]\n",
    "                        and loc[2] < point_cloud_range[5]\n",
    "                    ):\n",
    "                        continue\n",
    "\n",
    "                    distance = np.sqrt(np.sum(np.array(loc[:2]) ** 2))\n",
    "                    class_distances[obj_type].append(distance)\n",
    "                    class_coords[obj_type].append(loc)\n",
    "    for x in class_distances:\n",
    "        class_distances[x] = np.array(class_distances[x])\n",
    "        class_coords[x] = np.array(class_coords[x])\n",
    "    return class_distances, class_coords"
   ]
  },
  {
   "cell_type": "code",
   "execution_count": null,
   "metadata": {},
   "outputs": [],
   "source": [
    "def plot_class_distances(class_distances: Dict[str, List[int]], title: str = \"\"):\n",
    "    fig, ax = plt.subplots(figsize=(10, 10))\n",
    "    ax.set_title(title)\n",
    "    ax.set_xlabel(\"Distance [m]\")\n",
    "    ax.set_ylabel(\"Frequency\")\n",
    "    for cls, distances in class_distances.items():\n",
    "        ax.hist(distances, bins=50, label=cls, alpha=0.5, color=CLASS_COLORS[cls])\n",
    "    ax.legend()\n",
    "    plt.show()\n",
    "\n",
    "\n",
    "def plot_class_histograms(class_distances: Dict[str, List[int]]):\n",
    "    fig, axs = plt.subplots(5, 2, figsize=(10, 25))\n",
    "    axs = axs.flatten()\n",
    "    for i, (cls, distances) in enumerate(class_distances.items()):\n",
    "        axs[i].hist(\n",
    "            distances, bins=50, range=[0, 160], label=cls, alpha=0.5, color=CLASS_COLORS[cls]\n",
    "        )\n",
    "        axs[i].set_title(cls)\n",
    "    plt.show()\n",
    "\n",
    "def plot_class_hists_and_coords(class_distances: Dict[str, List[int]], class_coords: Dict[str, List[int]]):\n",
    "    fig, axs = plt.subplots(10, 2, figsize=(10, 50))\n",
    "    axs = axs.flatten()\n",
    "    for i, (cls, distances) in enumerate(class_distances.items()):\n",
    "        idx = i * 2\n",
    "        axs[idx].set_title(cls)\n",
    "        axs[idx].hist(\n",
    "            distances, bins=50, range=[0, 160], label=cls, alpha=0.5, color=CLASS_COLORS[cls]\n",
    "        )\n",
    "        axs[idx+1].set_title(cls)\n",
    "        axs[idx+1].set_xlim([-160, 160])\n",
    "        axs[idx+1].set_ylim([-160, 160])\n",
    "        axs[idx+1].scatter(class_coords[cls][:, 0], class_coords[cls][:, 1], s=0.2, label=cls, alpha=1, color=CLASS_COLORS[cls])\n",
    "    plt.show()\n",
    "\n",
    "\n",
    "def print_distance_stats(class_distances: Dict[str, List[int]]):\n",
    "    for cls, distances in class_distances.items():\n",
    "        print(\n",
    "            f\" {cls:<20} count: {len(distances):<10} min: {np.min(distances):<10.3f} mean: {np.mean(distances):<10.3f} max: {np.max(distances):<10.3f} std: {np.std(distances):<10.2f}\"\n",
    "        )\n",
    "    print(\"=\" * 100)\n",
    "    print(\n",
    "        f\" {'Total':<20} count: {np.sum([len(x) for x in class_distances.values()]):<10} min: {np.min([np.min(x) for x in class_distances.values()]):<10.3f} mean: {np.mean([np.mean(x) for x in class_distances.values()]):<10.3f} max: {np.max([np.max(x) for x in class_distances.values()]):<10.3f} std: {np.std([np.std(x) for x in class_distances.values()]):<10.2f}\"\n",
    "    )"
   ]
  },
  {
   "cell_type": "markdown",
   "metadata": {},
   "source": [
    "# No filtering"
   ]
  },
  {
   "cell_type": "code",
   "execution_count": null,
   "metadata": {},
   "outputs": [],
   "source": [
    "class_distances, class_coords = analyze(root_path)"
   ]
  },
  {
   "cell_type": "code",
   "execution_count": null,
   "metadata": {},
   "outputs": [],
   "source": [
    "print_distance_stats(class_distances)"
   ]
  },
  {
   "cell_type": "code",
   "execution_count": null,
   "metadata": {},
   "outputs": [],
   "source": [
    "plot_class_hists_and_coords(class_distances, class_coords)"
   ]
  },
  {
   "cell_type": "code",
   "execution_count": null,
   "metadata": {},
   "outputs": [],
   "source": [
    "plot_class_distances(class_distances, \"Distance distribution for all classes\")"
   ]
  },
  {
   "cell_type": "code",
   "execution_count": null,
   "metadata": {},
   "outputs": [],
   "source": [
    "plot_class_histograms(class_distances)"
   ]
  },
  {
   "cell_type": "markdown",
   "metadata": {},
   "source": [
    "# With Filtering"
   ]
  },
  {
   "cell_type": "code",
   "execution_count": null,
   "metadata": {},
   "outputs": [],
   "source": [
    "point_cloud_range = [-25.0, -75.0, -10.0, 125.0, 75.0, 0.0]\n",
    "class_distances, class_coords = analyze(root_path, point_cloud_range)"
   ]
  },
  {
   "cell_type": "code",
   "execution_count": null,
   "metadata": {},
   "outputs": [],
   "source": [
    "print_distance_stats(class_distances)"
   ]
  },
  {
   "cell_type": "code",
   "execution_count": null,
   "metadata": {},
   "outputs": [],
   "source": [
    "plot_class_hists_and_coords(class_distances, class_coords)"
   ]
  },
  {
   "cell_type": "code",
   "execution_count": null,
   "metadata": {},
   "outputs": [],
   "source": [
    "plot_class_histograms(class_distances)"
   ]
  }
 ],
 "metadata": {
  "kernelspec": {
   "display_name": "base",
   "language": "python",
   "name": "python3"
  },
  "language_info": {
   "codemirror_mode": {
    "name": "ipython",
    "version": 3
   },
   "file_extension": ".py",
   "mimetype": "text/x-python",
   "name": "python",
   "nbconvert_exporter": "python",
   "pygments_lexer": "ipython3",
   "version": "3.8.16"
  },
  "orig_nbformat": 4
 },
 "nbformat": 4,
 "nbformat_minor": 2
}
