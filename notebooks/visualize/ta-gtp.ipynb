{
 "cells": [
  {
   "cell_type": "code",
   "execution_count": 1,
   "metadata": {},
   "outputs": [],
   "source": [
    "%load_ext autoreload\n",
    "%autoreload 2"
   ]
  },
  {
   "cell_type": "code",
   "execution_count": 2,
   "metadata": {},
   "outputs": [
    {
     "name": "stdout",
     "output_type": "stream",
     "text": [
      "/root/mmdet3d\n"
     ]
    }
   ],
   "source": [
    "%cd ../.."
   ]
  },
  {
   "cell_type": "code",
   "execution_count": 3,
   "metadata": {},
   "outputs": [],
   "source": [
    "from mmdet3d.datasets import build_dataset, build_dataloader\n",
    "from mmdet3d.models import build_model\n",
    "from mmdet3d.utils import recursive_eval\n",
    "from mmcv import Config\n",
    "from torchpack.utils.config import configs\n",
    "import random\n",
    "import numpy as np\n",
    "import torch\n",
    "from mmdet.datasets import DATASETS\n",
    "from mmdet3d.datasets.dataset_wrappers import CBGSDataset\n",
    "import os\n",
    "from torchvision.utils import save_image\n",
    "from mmdet3d.core.utils import visualize_lidar\n",
    "from mmdet3d.core.utils.visualize import visualize_lidar_combined\n",
    "import copy"
   ]
  },
  {
   "cell_type": "code",
   "execution_count": 4,
   "metadata": {},
   "outputs": [],
   "source": [
    "def find_in_pipeline(pipeline: list, type: str) -> int:\n",
    "    for i, p in enumerate(pipeline):\n",
    "        if p[\"type\"] == type:\n",
    "            return i\n",
    "    return -1"
   ]
  },
  {
   "cell_type": "code",
   "execution_count": null,
   "metadata": {},
   "outputs": [],
   "source": [
    "def run_temporal_loading(cfg, dataloader, stop_batch_idx=None, save_path=None):\n",
    "    if cfg.seed is not None:\n",
    "        random.seed(cfg.seed)\n",
    "        np.random.seed(cfg.seed)\n",
    "        torch.manual_seed(cfg.seed)"
   ]
  }
 ],
 "metadata": {
  "kernelspec": {
   "display_name": "Python 3",
   "language": "python",
   "name": "python3"
  },
  "language_info": {
   "codemirror_mode": {
    "name": "ipython",
    "version": 3
   },
   "file_extension": ".py",
   "mimetype": "text/x-python",
   "name": "python",
   "nbconvert_exporter": "python",
   "pygments_lexer": "ipython3",
   "version": "3.8.17"
  }
 },
 "nbformat": 4,
 "nbformat_minor": 2
}
