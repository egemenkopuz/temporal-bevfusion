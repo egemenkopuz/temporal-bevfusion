{
 "cells": [
  {
   "cell_type": "code",
   "execution_count": null,
   "metadata": {},
   "outputs": [],
   "source": [
    "import csv\n",
    "from glob import glob\n",
    "import json\n",
    "import os"
   ]
  },
  {
   "cell_type": "code",
   "execution_count": null,
   "metadata": {},
   "outputs": [],
   "source": [
    "ERR_NAME_MAPPING = {\n",
    "    \"trans_err\": \"mATE\",\n",
    "    \"scale_err\": \"mASE\",\n",
    "    \"orient_err\": \"mAOE\",\n",
    "}\n",
    "\n",
    "CLASSES = (\n",
    "    \"CAR\",\n",
    "    \"TRAILER\",\n",
    "    \"TRUCK\",\n",
    "    \"VAN\",\n",
    "    \"PEDESTRIAN\",\n",
    "    \"BUS\",\n",
    "    \"MOTORCYCLE\",\n",
    "    \"BICYCLE\",\n",
    "    \"EMERGENCY_VEHICLE\",\n",
    "    \"OTHER\",\n",
    ")\n",
    "\n",
    "HEADERS = [\n",
    "    \"id\",\n",
    "    \"eval_type\",\n",
    "    \"mAP\",\n",
    "    \"mAOE\",\n",
    "    \"mATE\",\n",
    "    \"mASE\",\n",
    "    \"num_gt_bboxes\"\n",
    "]\n",
    "\n",
    "for x in CLASSES:\n",
    "    HEADERS.append(f\"num_{x}\")\n",
    "\n",
    "for m in [\"mAP\", \"mAOE\", \"mATE\", \"mASE\"]:\n",
    "    for x in CLASSES:\n",
    "        HEADERS.append(f\"{x}_{m}\")\n"
   ]
  },
  {
   "cell_type": "code",
   "execution_count": null,
   "metadata": {},
   "outputs": [],
   "source": [
    "# search_path = '../checkpoints/80-20/*'\n",
    "# out_filename = '80s20-summary.csv'\n",
    "\n",
    "search_path = '../checkpoints/80-10-10/*'\n",
    "csv_out_path = '../results/80s10s10-summary.csv'\n",
    "\n",
    "runs_paths = []\n",
    "\n",
    "for x in glob(search_path):\n",
    "    # check if test_results.json exists inside the folder\n",
    "    if len(glob(x + '/test_results.json')) == 0:\n",
    "        continue\n",
    "    runs_paths.append(x + '/test_results.json')"
   ]
  },
  {
   "cell_type": "code",
   "execution_count": null,
   "metadata": {},
   "outputs": [],
   "source": [
    "print(\"Will compile results for: \")\n",
    "for i, x in enumerate(runs_paths):\n",
    "    print(f\"{i:<5}\", x)"
   ]
  },
  {
   "cell_type": "markdown",
   "metadata": {},
   "source": [
    "# csv file creation"
   ]
  },
  {
   "cell_type": "code",
   "execution_count": null,
   "metadata": {},
   "outputs": [],
   "source": [
    "with open(csv_out_path, \"w\") as f:\n",
    "    writer = csv.DictWriter(f, fieldnames=HEADERS)\n",
    "    writer.writeheader()\n",
    "    for path in runs_paths:\n",
    "        id = os.path.basename(os.path.dirname(path))\n",
    "        data = None\n",
    "        with open(path, \"rb\") as json_file:\n",
    "            data = json.load(json_file)\n",
    "\n",
    "        for eval_type, eval_data in data.items():\n",
    "            row = {\n",
    "                \"id\": id,\n",
    "                \"eval_type\": eval_type,\n",
    "                \"mAP\": eval_data[\"mean_ap\"],\n",
    "                \"num_gt_bboxes\": eval_data[\"total_gt_bboxes\"],\n",
    "            }\n",
    "\n",
    "            for x in CLASSES:\n",
    "                if x in eval_data[\"class_counts\"]:\n",
    "                    row.update({f\"num_{x}\": eval_data[\"class_counts\"][x]})\n",
    "                else:\n",
    "                    row.update({f\"num_{x}\": \"\"})\n",
    "\n",
    "            for tp_name, tp_val in eval_data[\"tp_errors\"].items():\n",
    "                if tp_name in ERR_NAME_MAPPING:\n",
    "                    row.update({ERR_NAME_MAPPING[tp_name]: tp_val})\n",
    "\n",
    "            class_aps = eval_data[\"mean_dist_aps\"]\n",
    "            class_tps = eval_data[\"label_tp_errors\"]\n",
    "\n",
    "            for class_name in class_aps.keys():\n",
    "                row.update({f\"{class_name}_mAP\": class_aps[class_name]})\n",
    "                for tp_name, tp_val in class_tps[class_name].items():\n",
    "                    if tp_name in ERR_NAME_MAPPING:\n",
    "                        row.update(\n",
    "                            {\n",
    "                                f\"{class_name}_{ERR_NAME_MAPPING[tp_name]}\": class_tps[class_name][\n",
    "                                    tp_name\n",
    "                                ]\n",
    "                            }\n",
    "                        )\n",
    "\n",
    "            writer.writerows([row])"
   ]
  }
 ],
 "metadata": {
  "kernelspec": {
   "display_name": "base",
   "language": "python",
   "name": "python3"
  },
  "language_info": {
   "codemirror_mode": {
    "name": "ipython",
    "version": 3
   },
   "file_extension": ".py",
   "mimetype": "text/x-python",
   "name": "python",
   "nbconvert_exporter": "python",
   "pygments_lexer": "ipython3",
   "version": "3.8.16"
  },
  "orig_nbformat": 4
 },
 "nbformat": 4,
 "nbformat_minor": 2
}
